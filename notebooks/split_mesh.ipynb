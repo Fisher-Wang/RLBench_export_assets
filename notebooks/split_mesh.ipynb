{
 "cells": [
  {
   "cell_type": "code",
   "execution_count": 106,
   "metadata": {},
   "outputs": [],
   "source": [
    "import os\n",
    "os.environ['DISPLAY'] = ':1'\n",
    "import yaml\n",
    "import open3d as o3d\n",
    "import copy\n",
    "import numpy as np\n",
    "import functools\n"
   ]
  },
  {
   "cell_type": "code",
   "execution_count": 41,
   "metadata": {},
   "outputs": [],
   "source": [
    "color_candidates = [\n",
    "    [255, 0, 0],  # Red\n",
    "    [0, 255, 0],  # Green\n",
    "    [0, 0, 255],  # Blue\n",
    "    [255, 255, 0],  # Yellow\n",
    "    [0, 255, 255],  # Cyan\n",
    "    [255, 0, 255],  # Magenta\n",
    "    [255, 255, 255],  # White\n",
    "    [128, 128, 128],  # Gray\n",
    "    [255, 165, 0],  # Orange\n",
    "    [128, 0, 128],  # Purple\n",
    "    [0, 128, 128],  # Teal\n",
    "    [128, 128, 0],  # Olive\n",
    "]\n",
    "\n",
    "path = 'data_rlbench/urdf/basketball_in_hoop/basket_ball_hoop_visual.ply'\n",
    "mesh = o3d.io.read_triangle_mesh(path)\n",
    "o3d.visualization.draw_geometries([mesh])"
   ]
  },
  {
   "cell_type": "code",
   "execution_count": null,
   "metadata": {},
   "outputs": [
    {
     "name": "stdout",
     "output_type": "stream",
     "text": [
      "[0.75 0.25 0.25]\n",
      "\u001b[1;33m[Open3D WARNING] invalid color in PaintUniformColor, clipping to [0, 1]\u001b[0;m\n"
     ]
    }
   ],
   "source": [
    "cfg_idx = 3\n",
    "meshes = []\n",
    "all_triangle_indices = []\n",
    "\n",
    "while True:\n",
    "    cfg_path = f'data_rlbench/urdf/basketball_in_hoop/basket_ball_hoop_visual_{cfg_idx}.yaml'\n",
    "    if not os.path.exists(cfg_path):\n",
    "        break\n",
    "    \n",
    "    cfg = yaml.load(open(cfg_path), Loader=yaml.FullLoader)\n",
    "    indices = np.array(cfg['indices']).reshape(-1, 3)\n",
    "    colors = np.array(cfg['colors']).reshape(-1, 3)\n",
    "    print(colors[0])\n",
    "\n",
    "    recorded_triangle_indices = np.where((np.asarray(mesh.triangles)[:, None, :] == indices[None,:, :]).all(-1).any(-1))[0]\n",
    "    mesh1 = copy.deepcopy(mesh)\n",
    "    mesh1.triangles = o3d.utility.Vector3iVector(np.asarray(mesh1.triangles)[recorded_triangle_indices])\n",
    "    # mesh1.compute_vertex_normals()\n",
    "    mesh1.paint_uniform_color(color_candidates[cfg_idx % len(color_candidates)])\n",
    "    meshes.append(mesh1)\n",
    "    all_triangle_indices.append(recorded_triangle_indices)\n",
    "    break\n",
    "\n",
    "    cfg_idx += 1\n",
    "\n",
    "\n",
    "all_triangle_indices = np.unique(np.concatenate(all_triangle_indices))\n",
    "uncovered_indices = np.setdiff1d(np.arange(len(mesh.triangles)), all_triangle_indices)\n",
    "\n",
    "if len(uncovered_indices) > 0 and False:\n",
    "    mesh1 = copy.deepcopy(mesh)\n",
    "    mesh1.triangles = o3d.utility.Vector3iVector(np.asarray(mesh1.triangles)[uncovered_indices])\n",
    "    # mesh1.compute_vertex_normals()\n",
    "    meshes.append(mesh1)\n",
    "\n",
    "\n",
    "o3d.visualization.draw_geometries(meshes)"
   ]
  },
  {
   "cell_type": "code",
   "execution_count": 107,
   "metadata": {},
   "outputs": [
    {
     "name": "stdout",
     "output_type": "stream",
     "text": [
      "[0.83999997 0.83999997 0.83999997]\n",
      "[1. 1. 1.]\n",
      "[0.75 0.25 0.25]\n",
      "[0.75 0.25 0.25]\n",
      "[1. 1. 1.]\n"
     ]
    }
   ],
   "source": [
    "\n",
    "cfg_idx = 0\n",
    "meshes = []\n",
    "\n",
    "while True:\n",
    "    cfg_path = f'data_rlbench/urdf/basketball_in_hoop/basket_ball_hoop_visual_{cfg_idx}.yaml'\n",
    "    if not os.path.exists(cfg_path):\n",
    "        break\n",
    "    \n",
    "    cfg = yaml.load(open(cfg_path), Loader=yaml.FullLoader)\n",
    "    indices = np.array(cfg['indices']).reshape(-1, 3)\n",
    "    colors = np.array(cfg['colors']).reshape(-1, 3)\n",
    "    vertices = np.array(cfg['vertices']).reshape(-1, 3)\n",
    "    print(colors[0])\n",
    "\n",
    "    recorded_triangle_indices = np.where((np.asarray(mesh.triangles)[:, None, :] == indices[None,:, :]).all(-1).any(-1))[0]\n",
    "    triangle_vertice_indices = np.asarray(mesh.triangles)[recorded_triangle_indices].flatten()\n",
    "    \n",
    "    recorded_vertices_indices = np.where((np.isclose(np.asarray(mesh.vertices)[:, None, :], vertices[None,:, :])).all(-1).any(-1))[0]\n",
    "    \n",
    "    vertices_indices = np.unique(np.concatenate([triangle_vertice_indices, recorded_vertices_indices]))\n",
    "    \n",
    "    triangle_indices = np.where((np.asarray(mesh.triangles)[:, None, :] == vertices_indices[None,:, None]).any(1).all(-1))[0]\n",
    "    \n",
    "    mesh1 = copy.deepcopy(mesh)\n",
    "    mesh1.triangles = o3d.utility.Vector3iVector(np.asarray(mesh1.triangles)[triangle_indices])\n",
    "    # mesh1.compute_vertex_normals()\n",
    "    mesh1.paint_uniform_color(colors[0])\n",
    "    meshes.append(mesh1)\n",
    "    \n",
    "    cfg_idx += 1\n",
    "\n",
    "o3d.visualization.draw_geometries(meshes)"
   ]
  },
  {
   "cell_type": "code",
   "execution_count": 108,
   "metadata": {},
   "outputs": [
    {
     "data": {
      "text/plain": [
       "True"
      ]
     },
     "execution_count": 108,
     "metadata": {},
     "output_type": "execute_result"
    }
   ],
   "source": [
    "combined_mesh = functools.reduce(lambda x, y: x + y, meshes)\n",
    "o3d.io.write_triangle_mesh('combined_mesh.obj', combined_mesh)"
   ]
  }
 ],
 "metadata": {
  "kernelspec": {
   "display_name": "base",
   "language": "python",
   "name": "python3"
  },
  "language_info": {
   "codemirror_mode": {
    "name": "ipython",
    "version": 3
   },
   "file_extension": ".py",
   "mimetype": "text/x-python",
   "name": "python",
   "nbconvert_exporter": "python",
   "pygments_lexer": "ipython3",
   "version": "3.12.2"
  }
 },
 "nbformat": 4,
 "nbformat_minor": 2
}
